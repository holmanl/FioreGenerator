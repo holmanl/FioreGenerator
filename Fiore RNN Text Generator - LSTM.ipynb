{
 "cells": [
  {
   "cell_type": "code",
   "execution_count": 27,
   "metadata": {},
   "outputs": [],
   "source": [
    "# https://machinelearningmastery.com/text-generation-lstm-recurrent-neural-networks-python-keras/\n",
    "\n",
    "import numpy\n",
    "from keras.models import Sequential\n",
    "from keras.layers import Dense\n",
    "from keras.layers import Dropout\n",
    "from keras.layers import LSTM\n",
    "from keras.callbacks import ModelCheckpoint\n",
    "from keras.utils import np_utils\n",
    "import sys"
   ]
  },
  {
   "cell_type": "code",
   "execution_count": 28,
   "metadata": {},
   "outputs": [],
   "source": [
    "raw_text = open('Output.txt').read().lower()"
   ]
  },
  {
   "cell_type": "code",
   "execution_count": 29,
   "metadata": {},
   "outputs": [],
   "source": [
    "# map characters to integers\n",
    "chars = sorted(list(set(raw_text)))\n",
    "char_to_int = dict((c, i) for i, c in enumerate(chars))"
   ]
  },
  {
   "cell_type": "code",
   "execution_count": 30,
   "metadata": {},
   "outputs": [
    {
     "name": "stdout",
     "output_type": "stream",
     "text": [
      "91641 52\n"
     ]
    }
   ],
   "source": [
    "n_chars = len(raw_text)\n",
    "n_vocab = len(chars)\n",
    "print (n_chars, n_vocab)"
   ]
  },
  {
   "cell_type": "code",
   "execution_count": 31,
   "metadata": {},
   "outputs": [
    {
     "name": "stdout",
     "output_type": "stream",
     "text": [
      "91541\n"
     ]
    }
   ],
   "source": [
    "# define training data for th enetwork\n",
    "# split text into 100 characters (arbitrary)\n",
    "\n",
    "seq_length = 100\n",
    "dataX = []\n",
    "dataY = []\n",
    "for i in range(0, n_chars - seq_length, 1):\n",
    "    seq_in = raw_text[i:i + seq_length]\n",
    "    seq_out = raw_text[i + seq_length]\n",
    "    dataX.append([char_to_int[char] for char in seq_in])\n",
    "    dataY.append(char_to_int[seq_out])\n",
    "n_patterns = len(dataX)\n",
    "print(n_patterns)"
   ]
  },
  {
   "cell_type": "code",
   "execution_count": 32,
   "metadata": {},
   "outputs": [],
   "source": [
    "# 1 transform list of input seq into form [samples, time steps, features]\n",
    "# 2 rescale integers to range 0 to 1\n",
    "# 3 convert output patterns into one encoding so each char has a probability value\n",
    "\n",
    "# reshape X to be [samples, time steps, features]\n",
    "X = numpy.reshape(dataX, (n_patterns, seq_length, 1))\n",
    "# normalize \n",
    "X = X / float(n_vocab)\n",
    "# one hot encode the output variable\n",
    "y = np_utils.to_categorical(dataY)\n"
   ]
  },
  {
   "cell_type": "code",
   "execution_count": 33,
   "metadata": {},
   "outputs": [],
   "source": [
    "# define LSTM model\n",
    "model = Sequential()\n",
    "model.add(LSTM(256, input_shape=(X.shape[1], X.shape[2])))\n",
    "model.add(Dropout(0.2))\n",
    "model.add(Dense(y.shape[1], activation='softmax'))\n",
    "model.compile(loss='categorical_crossentropy', optimizer='adam')"
   ]
  },
  {
   "cell_type": "code",
   "execution_count": 34,
   "metadata": {},
   "outputs": [],
   "source": [
    "# define checkpoint\n",
    "filepath=\"weights-improvement-{epoch:02d}-{loss:.4f}.hdf5\"\n",
    "checkpoint = ModelCheckpoint(filepath, monitor='loss', verbose=1, save_best_only=True, mode='min')\n",
    "callbacks_list = [checkpoint]"
   ]
  },
  {
   "cell_type": "code",
   "execution_count": 35,
   "metadata": {},
   "outputs": [
    {
     "name": "stdout",
     "output_type": "stream",
     "text": [
      "Epoch 1/20\n",
      "91541/91541 [==============================] - 478s 5ms/step - loss: 2.9524\n",
      "\n",
      "Epoch 00001: loss improved from inf to 2.95242, saving model to weights-improvement-01-2.9524.hdf5\n",
      "Epoch 2/20\n",
      "91541/91541 [==============================] - 794s 9ms/step - loss: 2.7150\n",
      "\n",
      "Epoch 00002: loss improved from 2.95242 to 2.71502, saving model to weights-improvement-02-2.7150.hdf5\n",
      "Epoch 3/20\n",
      "91541/91541 [==============================] - 459s 5ms/step - loss: 2.5967\n",
      "\n",
      "Epoch 00003: loss improved from 2.71502 to 2.59672, saving model to weights-improvement-03-2.5967.hdf5\n",
      "Epoch 4/20\n",
      "91541/91541 [==============================] - 472s 5ms/step - loss: 2.4871\n",
      "\n",
      "Epoch 00004: loss improved from 2.59672 to 2.48707, saving model to weights-improvement-04-2.4871.hdf5\n",
      "Epoch 5/20\n",
      "91541/91541 [==============================] - 477s 5ms/step - loss: 2.3743\n",
      "\n",
      "Epoch 00005: loss improved from 2.48707 to 2.37433, saving model to weights-improvement-05-2.3743.hdf5\n",
      "Epoch 6/20\n",
      "91541/91541 [==============================] - 496s 5ms/step - loss: 2.2574\n",
      "\n",
      "Epoch 00006: loss improved from 2.37433 to 2.25741, saving model to weights-improvement-06-2.2574.hdf5\n",
      "Epoch 7/20\n",
      "91541/91541 [==============================] - 502s 5ms/step - loss: 2.1537\n",
      "\n",
      "Epoch 00007: loss improved from 2.25741 to 2.15367, saving model to weights-improvement-07-2.1537.hdf5\n",
      "Epoch 8/20\n",
      "91541/91541 [==============================] - 484s 5ms/step - loss: 2.0514\n",
      "\n",
      "Epoch 00008: loss improved from 2.15367 to 2.05138, saving model to weights-improvement-08-2.0514.hdf5\n",
      "Epoch 9/20\n",
      "91541/91541 [==============================] - 481s 5ms/step - loss: 1.9504\n",
      "\n",
      "Epoch 00009: loss improved from 2.05138 to 1.95037, saving model to weights-improvement-09-1.9504.hdf5\n",
      "Epoch 10/20\n",
      "91541/91541 [==============================] - 478s 5ms/step - loss: 1.8555\n",
      "\n",
      "Epoch 00010: loss improved from 1.95037 to 1.85546, saving model to weights-improvement-10-1.8555.hdf5\n",
      "Epoch 11/20\n",
      "91541/91541 [==============================] - 481s 5ms/step - loss: 1.7697\n",
      "\n",
      "Epoch 00011: loss improved from 1.85546 to 1.76966, saving model to weights-improvement-11-1.7697.hdf5\n",
      "Epoch 12/20\n",
      "91541/91541 [==============================] - 469s 5ms/step - loss: 1.6824\n",
      "\n",
      "Epoch 00012: loss improved from 1.76966 to 1.68243, saving model to weights-improvement-12-1.6824.hdf5\n",
      "Epoch 13/20\n",
      "91541/91541 [==============================] - 468s 5ms/step - loss: 1.6017\n",
      "\n",
      "Epoch 00013: loss improved from 1.68243 to 1.60166, saving model to weights-improvement-13-1.6017.hdf5\n",
      "Epoch 14/20\n",
      "91541/91541 [==============================] - 493s 5ms/step - loss: 1.5297\n",
      "\n",
      "Epoch 00014: loss improved from 1.60166 to 1.52973, saving model to weights-improvement-14-1.5297.hdf5\n",
      "Epoch 15/20\n",
      "91541/91541 [==============================] - 507s 6ms/step - loss: 1.4647\n",
      "\n",
      "Epoch 00015: loss improved from 1.52973 to 1.46469, saving model to weights-improvement-15-1.4647.hdf5\n",
      "Epoch 16/20\n",
      "91541/91541 [==============================] - 477s 5ms/step - loss: 1.4000\n",
      "\n",
      "Epoch 00016: loss improved from 1.46469 to 1.40001, saving model to weights-improvement-16-1.4000.hdf5\n",
      "Epoch 17/20\n",
      "91541/91541 [==============================] - 475s 5ms/step - loss: 1.3434\n",
      "\n",
      "Epoch 00017: loss improved from 1.40001 to 1.34339, saving model to weights-improvement-17-1.3434.hdf5\n",
      "Epoch 18/20\n",
      "91541/91541 [==============================] - 476s 5ms/step - loss: 1.2861\n",
      "\n",
      "Epoch 00018: loss improved from 1.34339 to 1.28613, saving model to weights-improvement-18-1.2861.hdf5\n",
      "Epoch 19/20\n",
      "91541/91541 [==============================] - 471s 5ms/step - loss: 1.2445\n",
      "\n",
      "Epoch 00019: loss improved from 1.28613 to 1.24450, saving model to weights-improvement-19-1.2445.hdf5\n",
      "Epoch 20/20\n",
      "91541/91541 [==============================] - 466s 5ms/step - loss: 1.1968\n",
      "\n",
      "Epoch 00020: loss improved from 1.24450 to 1.19678, saving model to weights-improvement-20-1.1968.hdf5\n"
     ]
    },
    {
     "data": {
      "text/plain": [
       "<keras.callbacks.callbacks.History at 0x1ed1baccdc8>"
      ]
     },
     "execution_count": 35,
     "metadata": {},
     "output_type": "execute_result"
    }
   ],
   "source": [
    "# fit model to data\n",
    "model.fit(X, y, epochs=20, batch_size=128, callbacks=callbacks_list)"
   ]
  },
  {
   "cell_type": "code",
   "execution_count": 10,
   "metadata": {},
   "outputs": [],
   "source": [
    "# generate the text\n",
    "# the exciting part!"
   ]
  },
  {
   "cell_type": "code",
   "execution_count": 36,
   "metadata": {},
   "outputs": [],
   "source": [
    "# load the network weights\n",
    "filename = \"weights-improvement-20-1.1968.hdf5\"\n",
    "model.load_weights(filename)\n",
    "model.compile(loss='categorical_crossentropy', optimizer='adam')"
   ]
  },
  {
   "cell_type": "code",
   "execution_count": 37,
   "metadata": {},
   "outputs": [],
   "source": [
    "# reverse mapping for human eyeballs to read\n",
    "int_to_char = dict((i, c) for i, c in enumerate(chars))"
   ]
  },
  {
   "cell_type": "code",
   "execution_count": 41,
   "metadata": {},
   "outputs": [
    {
     "name": "stdout",
     "output_type": "stream",
     "text": [
      "Seed:\n",
      "\" would be a good teacher.\n",
      "\n",
      "and so, our treatise will comprise all of our knowledge, as a book\n",
      "\n",
      "decora \"\n",
      "ene on tee \n",
      "andaav on him thr walh the tooer nf moe and th in toil iote aitadt ano tithits.\n",
      "\n",
      "\n",
      "\n",
      "    \t\n",
      "  \n",
      "io pu thioty uo the mrher  to call ti lee liru.\n",
      "\n",
      "\n",
      "\n",
      "    \t\n",
      "  \n",
      "i aa the surrd guard on hhr hamd  you hl gete an andadt.\n",
      "\n",
      "i am the suart of byor daoge  and you'll be lllt weuh the wword \n",
      "\n",
      "\n",
      "\n",
      "   \n",
      "      \n",
      "\n",
      "\n",
      "   \n",
      " \n",
      "\n",
      "\n",
      "\n",
      "  \n",
      "\n",
      "        \n",
      "\n",
      "        \n",
      "\n",
      "\n",
      "                                \n",
      "         \n",
      "                                                                                                                        \n",
      "Done.\n"
     ]
    }
   ],
   "source": [
    "start = numpy.random.randint(0, len(dataX)-1)\n",
    "pattern = dataX[start]\n",
    "print (\"Seed:\")\n",
    "print (\"\\\"\", ''.join([int_to_char[value] for value in pattern]), \"\\\"\")\n",
    "# generate characters\n",
    "for i in range(500):\n",
    "    x = numpy.reshape(pattern, (1, len(pattern), 1))\n",
    "    x = x / float(n_vocab)\n",
    "    prediction = model.predict(x, verbose=0)\n",
    "    index = numpy.argmax(prediction)\n",
    "    result = int_to_char[index]\n",
    "    seq_in = [int_to_char[value] for value in pattern]\n",
    "    sys.stdout.write(result)\n",
    "    pattern.append(index)\n",
    "    pattern = pattern[1:len(pattern)]\n",
    "print (\"\\nDone.\")"
   ]
  },
  {
   "cell_type": "code",
   "execution_count": null,
   "metadata": {},
   "outputs": [],
   "source": []
  }
 ],
 "metadata": {
  "kernelspec": {
   "display_name": "Python 3",
   "language": "python",
   "name": "python3"
  },
  "language_info": {
   "codemirror_mode": {
    "name": "ipython",
    "version": 3
   },
   "file_extension": ".py",
   "mimetype": "text/x-python",
   "name": "python",
   "nbconvert_exporter": "python",
   "pygments_lexer": "ipython3",
   "version": "3.7.4"
  }
 },
 "nbformat": 4,
 "nbformat_minor": 2
}
