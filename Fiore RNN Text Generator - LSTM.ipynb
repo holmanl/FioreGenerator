{
 "cells": [
  {
   "cell_type": "code",
   "execution_count": 19,
   "metadata": {},
   "outputs": [
    {
     "ename": "ModuleNotFoundError",
     "evalue": "No module named 'stdin'",
     "output_type": "error",
     "traceback": [
      "\u001b[1;31m---------------------------------------------------------------------------\u001b[0m",
      "\u001b[1;31mModuleNotFoundError\u001b[0m                       Traceback (most recent call last)",
      "\u001b[1;32m<ipython-input-19-01857f595ddc>\u001b[0m in \u001b[0;36m<module>\u001b[1;34m\u001b[0m\n\u001b[0;32m      9\u001b[0m \u001b[1;32mfrom\u001b[0m \u001b[0mkeras\u001b[0m\u001b[1;33m.\u001b[0m\u001b[0mutils\u001b[0m \u001b[1;32mimport\u001b[0m \u001b[0mnp_utils\u001b[0m\u001b[1;33m\u001b[0m\u001b[1;33m\u001b[0m\u001b[0m\n\u001b[0;32m     10\u001b[0m \u001b[1;32mimport\u001b[0m \u001b[0msys\u001b[0m\u001b[1;33m\u001b[0m\u001b[1;33m\u001b[0m\u001b[0m\n\u001b[1;32m---> 11\u001b[1;33m \u001b[1;32mimport\u001b[0m \u001b[0mstdin\u001b[0m\u001b[1;33m\u001b[0m\u001b[1;33m\u001b[0m\u001b[0m\n\u001b[0m",
      "\u001b[1;31mModuleNotFoundError\u001b[0m: No module named 'stdin'"
     ]
    }
   ],
   "source": [
    "# https://machinelearningmastery.com/text-generation-lstm-recurrent-neural-networks-python-keras/\n",
    "\n",
    "import numpy\n",
    "from keras.models import Sequential\n",
    "from keras.layers import Dense\n",
    "from keras.layers import Dropout\n",
    "from keras.layers import LSTM\n",
    "from keras.callbacks import ModelCheckpoint\n",
    "from keras.utils import np_utils\n",
    "import sys"
   ]
  },
  {
   "cell_type": "code",
   "execution_count": 2,
   "metadata": {},
   "outputs": [],
   "source": [
    "raw_text = open('Prologue_test.txt').read().lower()"
   ]
  },
  {
   "cell_type": "code",
   "execution_count": 3,
   "metadata": {},
   "outputs": [],
   "source": [
    "# map characters to integers\n",
    "chars = sorted(list(set(raw_text)))\n",
    "char_to_int = dict((c, i) for i, c in enumerate(chars))"
   ]
  },
  {
   "cell_type": "code",
   "execution_count": 4,
   "metadata": {},
   "outputs": [
    {
     "name": "stdout",
     "output_type": "stream",
     "text": [
      "13933 43\n"
     ]
    }
   ],
   "source": [
    "n_chars = len(raw_text)\n",
    "n_vocab = len(chars)\n",
    "print (n_chars, n_vocab)"
   ]
  },
  {
   "cell_type": "code",
   "execution_count": 5,
   "metadata": {},
   "outputs": [
    {
     "name": "stdout",
     "output_type": "stream",
     "text": [
      "13833\n"
     ]
    }
   ],
   "source": [
    "# define training data for th enetwork\n",
    "# split text into 100 characters (arbitrary)\n",
    "\n",
    "seq_length = 100\n",
    "dataX = []\n",
    "dataY = []\n",
    "for i in range(0, n_chars - seq_length, 1):\n",
    "    seq_in = raw_text[i:i + seq_length]\n",
    "    seq_out = raw_text[i + seq_length]\n",
    "    dataX.append([char_to_int[char] for char in seq_in])\n",
    "    dataY.append(char_to_int[seq_out])\n",
    "n_patterns = len(dataX)\n",
    "print(n_patterns)"
   ]
  },
  {
   "cell_type": "code",
   "execution_count": 6,
   "metadata": {},
   "outputs": [],
   "source": [
    "# 1 transform list of input seq into form [samples, time steps, features]\n",
    "# 2 rescale integers to range 0 to 1\n",
    "# 3 convert output patterns into one encoding so each char has a probability value\n",
    "\n",
    "# reshape X to be [samples, time steps, features]\n",
    "X = numpy.reshape(dataX, (n_patterns, seq_length, 1))\n",
    "# normalize \n",
    "X = X / float(n_vocab)\n",
    "# one hot encode the output variable\n",
    "y = np_utils.to_categorical(dataY)\n"
   ]
  },
  {
   "cell_type": "code",
   "execution_count": 7,
   "metadata": {},
   "outputs": [],
   "source": [
    "# define LSTM model\n",
    "model = Sequential()\n",
    "model.add(LSTM(256, input_shape=(X.shape[1], X.shape[2])))\n",
    "model.add(Dropout(0.2))\n",
    "model.add(Dense(y.shape[1], activation='softmax'))\n",
    "model.compile(loss='categorical_crossentropy', optimizer='adam')"
   ]
  },
  {
   "cell_type": "code",
   "execution_count": 8,
   "metadata": {},
   "outputs": [],
   "source": [
    "# define checkpoint\n",
    "filepath=\"weights-improvement-{epoch:02d}-{loss:.4f}.hdf5\"\n",
    "checkpoint = ModelCheckpoint(filepath, monitor='loss', verbose=1, save_best_only=True, mode='min')\n",
    "callbacks_list = [checkpoint]"
   ]
  },
  {
   "cell_type": "code",
   "execution_count": 9,
   "metadata": {},
   "outputs": [
    {
     "name": "stdout",
     "output_type": "stream",
     "text": [
      "Epoch 1/20\n",
      "13833/13833 [==============================] - 73s 5ms/step - loss: 3.0354\n",
      "\n",
      "Epoch 00001: loss improved from inf to 3.03538, saving model to weights-improvement-01-3.0354.hdf5\n",
      "Epoch 2/20\n",
      "13833/13833 [==============================] - 73s 5ms/step - loss: 2.9654\n",
      "\n",
      "Epoch 00002: loss improved from 3.03538 to 2.96540, saving model to weights-improvement-02-2.9654.hdf5\n",
      "Epoch 3/20\n",
      "13833/13833 [==============================] - 71s 5ms/step - loss: 2.9570\n",
      "\n",
      "Epoch 00003: loss improved from 2.96540 to 2.95699, saving model to weights-improvement-03-2.9570.hdf5\n",
      "Epoch 4/20\n",
      "13833/13833 [==============================] - 70s 5ms/step - loss: 2.9496\n",
      "\n",
      "Epoch 00004: loss improved from 2.95699 to 2.94955, saving model to weights-improvement-04-2.9496.hdf5\n",
      "Epoch 5/20\n",
      "13833/13833 [==============================] - 70s 5ms/step - loss: 2.9234\n",
      "\n",
      "Epoch 00005: loss improved from 2.94955 to 2.92342, saving model to weights-improvement-05-2.9234.hdf5\n",
      "Epoch 6/20\n",
      "13833/13833 [==============================] - 72s 5ms/step - loss: 2.8746\n",
      "\n",
      "Epoch 00006: loss improved from 2.92342 to 2.87465, saving model to weights-improvement-06-2.8746.hdf5\n",
      "Epoch 7/20\n",
      "13833/13833 [==============================] - 70s 5ms/step - loss: 2.8369\n",
      "\n",
      "Epoch 00007: loss improved from 2.87465 to 2.83690, saving model to weights-improvement-07-2.8369.hdf5\n",
      "Epoch 8/20\n",
      "13833/13833 [==============================] - 71s 5ms/step - loss: 2.8115\n",
      "\n",
      "Epoch 00008: loss improved from 2.83690 to 2.81145, saving model to weights-improvement-08-2.8115.hdf5\n",
      "Epoch 9/20\n",
      "13833/13833 [==============================] - 72s 5ms/step - loss: 2.7881\n",
      "\n",
      "Epoch 00009: loss improved from 2.81145 to 2.78810, saving model to weights-improvement-09-2.7881.hdf5\n",
      "Epoch 10/20\n",
      "13833/13833 [==============================] - 73s 5ms/step - loss: 2.7666\n",
      "\n",
      "Epoch 00010: loss improved from 2.78810 to 2.76661, saving model to weights-improvement-10-2.7666.hdf5\n",
      "Epoch 11/20\n",
      "13833/13833 [==============================] - 77s 6ms/step - loss: 2.7368\n",
      "\n",
      "Epoch 00011: loss improved from 2.76661 to 2.73675, saving model to weights-improvement-11-2.7368.hdf5\n",
      "Epoch 12/20\n",
      "13833/13833 [==============================] - 77s 6ms/step - loss: 2.7083\n",
      "\n",
      "Epoch 00012: loss improved from 2.73675 to 2.70830, saving model to weights-improvement-12-2.7083.hdf5\n",
      "Epoch 13/20\n",
      "13833/13833 [==============================] - 76s 5ms/step - loss: 2.6857\n",
      "\n",
      "Epoch 00013: loss improved from 2.70830 to 2.68569, saving model to weights-improvement-13-2.6857.hdf5\n",
      "Epoch 14/20\n",
      "13833/13833 [==============================] - 76s 6ms/step - loss: 2.6672\n",
      "\n",
      "Epoch 00014: loss improved from 2.68569 to 2.66724, saving model to weights-improvement-14-2.6672.hdf5\n",
      "Epoch 15/20\n",
      "13833/13833 [==============================] - 73s 5ms/step - loss: 2.6511\n",
      "\n",
      "Epoch 00015: loss improved from 2.66724 to 2.65108, saving model to weights-improvement-15-2.6511.hdf5\n",
      "Epoch 16/20\n",
      "13833/13833 [==============================] - 74s 5ms/step - loss: 2.6238\n",
      "\n",
      "Epoch 00016: loss improved from 2.65108 to 2.62376, saving model to weights-improvement-16-2.6238.hdf5\n",
      "Epoch 17/20\n",
      "13833/13833 [==============================] - 74s 5ms/step - loss: 2.6031\n",
      "\n",
      "Epoch 00017: loss improved from 2.62376 to 2.60307, saving model to weights-improvement-17-2.6031.hdf5\n",
      "Epoch 18/20\n",
      "13833/13833 [==============================] - 77s 6ms/step - loss: 2.5809\n",
      "\n",
      "Epoch 00018: loss improved from 2.60307 to 2.58088, saving model to weights-improvement-18-2.5809.hdf5\n",
      "Epoch 19/20\n",
      "13833/13833 [==============================] - 74s 5ms/step - loss: 2.5522\n",
      "\n",
      "Epoch 00019: loss improved from 2.58088 to 2.55218, saving model to weights-improvement-19-2.5522.hdf5\n",
      "Epoch 20/20\n",
      "13833/13833 [==============================] - 74s 5ms/step - loss: 2.5298\n",
      "\n",
      "Epoch 00020: loss improved from 2.55218 to 2.52983, saving model to weights-improvement-20-2.5298.hdf5\n"
     ]
    },
    {
     "data": {
      "text/plain": [
       "<keras.callbacks.callbacks.History at 0x1ed1c62fc48>"
      ]
     },
     "execution_count": 9,
     "metadata": {},
     "output_type": "execute_result"
    }
   ],
   "source": [
    "# fit model to data\n",
    "model.fit(X, y, epochs=20, batch_size=128, callbacks=callbacks_list)"
   ]
  },
  {
   "cell_type": "code",
   "execution_count": 10,
   "metadata": {},
   "outputs": [],
   "source": [
    "# generate the text\n",
    "# the exciting part!"
   ]
  },
  {
   "cell_type": "code",
   "execution_count": 12,
   "metadata": {},
   "outputs": [],
   "source": [
    "# load the network weights\n",
    "filename = \"weights-improvement-20-2.5298.hdf5\"\n",
    "model.load_weights(filename)\n",
    "model.compile(loss='categorical_crossentropy', optimizer='adam')"
   ]
  },
  {
   "cell_type": "code",
   "execution_count": 13,
   "metadata": {},
   "outputs": [],
   "source": [
    "# reverse mapping for human eyeballs to read\n",
    "int_to_char = dict((i, c) for i, c in enumerate(chars))"
   ]
  },
  {
   "cell_type": "code",
   "execution_count": 23,
   "metadata": {},
   "outputs": [
    {
     "name": "stdout",
     "output_type": "stream",
     "text": [
      "Seed:\n",
      "\" s, how can one become a good teacher? i have seen a thousand people calling themselves masters, of w \"\n",
      "he waot an  and the  aod t the  aod t the  aod t the  aod t the  aod t the  aod t the  aod t the  aod t the  aod t the  aod t the  aod t the  aod t the  aod t the  aod t the  aod t the  aod t the  aod t the  aod t the  aod t the  aod t the  aod t the  aod t the  aod t the  aod t the  aod t the  aod t the  aod t the  aod t the  aod t the  aod t the  aod t the  aod t the  aod t the  aod t the  aod t the  aod t the  aod t the  aod t the  aod t the  aod t the  aod t the  aod t the  aod t the  aod t \n",
      "Done.\n"
     ]
    }
   ],
   "source": [
    "start = numpy.random.randint(0, len(dataX)-1)\n",
    "pattern = dataX[start]\n",
    "print (\"Seed:\")\n",
    "print (\"\\\"\", ''.join([int_to_char[value] for value in pattern]), \"\\\"\")\n",
    "# generate characters\n",
    "for i in range(500):\n",
    "    x = numpy.reshape(pattern, (1, len(pattern), 1))\n",
    "    x = x / float(n_vocab)\n",
    "    prediction = model.predict(x, verbose=0)\n",
    "    index = numpy.argmax(prediction)\n",
    "    result = int_to_char[index]\n",
    "    seq_in = [int_to_char[value] for value in pattern]\n",
    "    sys.stdout.write(result)\n",
    "    pattern.append(index)\n",
    "    pattern = pattern[1:len(pattern)]\n",
    "print (\"\\nDone.\")"
   ]
  },
  {
   "cell_type": "code",
   "execution_count": null,
   "metadata": {},
   "outputs": [],
   "source": []
  }
 ],
 "metadata": {
  "kernelspec": {
   "display_name": "Python 3",
   "language": "python",
   "name": "python3"
  },
  "language_info": {
   "codemirror_mode": {
    "name": "ipython",
    "version": 3
   },
   "file_extension": ".py",
   "mimetype": "text/x-python",
   "name": "python",
   "nbconvert_exporter": "python",
   "pygments_lexer": "ipython3",
   "version": "3.7.4"
  }
 },
 "nbformat": 4,
 "nbformat_minor": 2
}
